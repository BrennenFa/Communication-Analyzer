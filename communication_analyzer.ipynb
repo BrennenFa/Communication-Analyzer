{
 "cells": [
  {
   "cell_type": "code",
   "execution_count": 1,
   "id": "2a803447-30cd-48be-a59b-be5673d457bb",
   "metadata": {},
   "outputs": [
    {
     "name": "stdout",
     "output_type": "stream",
     "text": [
      "Requirement already satisfied: nltk in c:\\users\\brennen.farrell\\appdata\\local\\miniconda3\\lib\\site-packages (3.8.1)\n",
      "Requirement already satisfied: click in c:\\users\\brennen.farrell\\appdata\\local\\miniconda3\\lib\\site-packages (from nltk) (8.1.7)\n",
      "Requirement already satisfied: joblib in c:\\users\\brennen.farrell\\appdata\\local\\miniconda3\\lib\\site-packages (from nltk) (1.4.0)\n",
      "Requirement already satisfied: regex>=2021.8.3 in c:\\users\\brennen.farrell\\appdata\\local\\miniconda3\\lib\\site-packages (from nltk) (2024.5.15)\n",
      "Requirement already satisfied: tqdm in c:\\users\\brennen.farrell\\appdata\\local\\miniconda3\\lib\\site-packages (from nltk) (4.66.2)\n",
      "Requirement already satisfied: colorama in c:\\users\\brennen.farrell\\appdata\\local\\miniconda3\\lib\\site-packages (from click->nltk) (0.4.6)\n"
     ]
    },
    {
     "name": "stderr",
     "output_type": "stream",
     "text": [
      "DEPRECATION: xgbse 0.2.3 has a non-standard dependency specifier pandas>=1.0.*. pip 24.1 will enforce this behaviour change. A possible replacement is to upgrade to a newer version of xgbse or contact the author to suggest that they release a version with a conforming dependency specifiers. Discussion can be found at https://github.com/pypa/pip/issues/12063\n"
     ]
    },
    {
     "name": "stdout",
     "output_type": "stream",
     "text": [
      "Requirement already satisfied: pathlib in c:\\users\\brennen.farrell\\appdata\\local\\miniconda3\\lib\\site-packages (1.0.1)\n"
     ]
    },
    {
     "name": "stderr",
     "output_type": "stream",
     "text": [
      "DEPRECATION: xgbse 0.2.3 has a non-standard dependency specifier pandas>=1.0.*. pip 24.1 will enforce this behaviour change. A possible replacement is to upgrade to a newer version of xgbse or contact the author to suggest that they release a version with a conforming dependency specifiers. Discussion can be found at https://github.com/pypa/pip/issues/12063\n"
     ]
    },
    {
     "name": "stdout",
     "output_type": "stream",
     "text": [
      "Requirement already satisfied: SpeechRecognition in c:\\users\\brennen.farrell\\appdata\\local\\miniconda3\\lib\\site-packages (3.10.4)\n",
      "Requirement already satisfied: requests>=2.26.0 in c:\\users\\brennen.farrell\\appdata\\local\\miniconda3\\lib\\site-packages (from SpeechRecognition) (2.31.0)\n",
      "Requirement already satisfied: typing-extensions in c:\\users\\brennen.farrell\\appdata\\local\\miniconda3\\lib\\site-packages (from SpeechRecognition) (4.12.2)\n",
      "Requirement already satisfied: charset-normalizer<4,>=2 in c:\\users\\brennen.farrell\\appdata\\local\\miniconda3\\lib\\site-packages (from requests>=2.26.0->SpeechRecognition) (2.0.4)\n",
      "Requirement already satisfied: idna<4,>=2.5 in c:\\users\\brennen.farrell\\appdata\\local\\miniconda3\\lib\\site-packages (from requests>=2.26.0->SpeechRecognition) (3.7)\n",
      "Requirement already satisfied: urllib3<3,>=1.21.1 in c:\\users\\brennen.farrell\\appdata\\local\\miniconda3\\lib\\site-packages (from requests>=2.26.0->SpeechRecognition) (2.1.0)\n",
      "Requirement already satisfied: certifi>=2017.4.17 in c:\\users\\brennen.farrell\\appdata\\local\\miniconda3\\lib\\site-packages (from requests>=2.26.0->SpeechRecognition) (2024.6.2)\n"
     ]
    },
    {
     "name": "stderr",
     "output_type": "stream",
     "text": [
      "DEPRECATION: xgbse 0.2.3 has a non-standard dependency specifier pandas>=1.0.*. pip 24.1 will enforce this behaviour change. A possible replacement is to upgrade to a newer version of xgbse or contact the author to suggest that they release a version with a conforming dependency specifiers. Discussion can be found at https://github.com/pypa/pip/issues/12063\n"
     ]
    },
    {
     "name": "stdout",
     "output_type": "stream",
     "text": [
      "Requirement already satisfied: pydub in c:\\users\\brennen.farrell\\appdata\\local\\miniconda3\\lib\\site-packages (0.25.1)\n"
     ]
    },
    {
     "name": "stderr",
     "output_type": "stream",
     "text": [
      "DEPRECATION: xgbse 0.2.3 has a non-standard dependency specifier pandas>=1.0.*. pip 24.1 will enforce this behaviour change. A possible replacement is to upgrade to a newer version of xgbse or contact the author to suggest that they release a version with a conforming dependency specifiers. Discussion can be found at https://github.com/pypa/pip/issues/12063\n"
     ]
    },
    {
     "name": "stdout",
     "output_type": "stream",
     "text": [
      "Requirement already satisfied: pocketsphinx in c:\\users\\brennen.farrell\\appdata\\local\\miniconda3\\lib\\site-packages (5.0.3)\n",
      "Requirement already satisfied: pyaudio in c:\\users\\brennen.farrell\\appdata\\local\\miniconda3\\lib\\site-packages (0.2.14)\n",
      "Requirement already satisfied: sounddevice in c:\\users\\brennen.farrell\\appdata\\local\\miniconda3\\lib\\site-packages (from pocketsphinx) (0.4.7)\n",
      "Requirement already satisfied: CFFI>=1.0 in c:\\users\\brennen.farrell\\appdata\\local\\miniconda3\\lib\\site-packages (from sounddevice->pocketsphinx) (1.16.0)\n",
      "Requirement already satisfied: pycparser in c:\\users\\brennen.farrell\\appdata\\local\\miniconda3\\lib\\site-packages (from CFFI>=1.0->sounddevice->pocketsphinx) (2.21)\n"
     ]
    },
    {
     "name": "stderr",
     "output_type": "stream",
     "text": [
      "DEPRECATION: xgbse 0.2.3 has a non-standard dependency specifier pandas>=1.0.*. pip 24.1 will enforce this behaviour change. A possible replacement is to upgrade to a newer version of xgbse or contact the author to suggest that they release a version with a conforming dependency specifiers. Discussion can be found at https://github.com/pypa/pip/issues/12063\n"
     ]
    },
    {
     "name": "stdout",
     "output_type": "stream",
     "text": [
      "Requirement already satisfied: pyphen in c:\\users\\brennen.farrell\\appdata\\local\\miniconda3\\lib\\site-packages (0.15.0)\n"
     ]
    },
    {
     "name": "stderr",
     "output_type": "stream",
     "text": [
      "DEPRECATION: xgbse 0.2.3 has a non-standard dependency specifier pandas>=1.0.*. pip 24.1 will enforce this behaviour change. A possible replacement is to upgrade to a newer version of xgbse or contact the author to suggest that they release a version with a conforming dependency specifiers. Discussion can be found at https://github.com/pypa/pip/issues/12063\n"
     ]
    },
    {
     "name": "stdout",
     "output_type": "stream",
     "text": [
      "Requirement already satisfied: syllables in c:\\users\\brennen.farrell\\appdata\\local\\miniconda3\\lib\\site-packages (1.0.9)\n",
      "Requirement already satisfied: cmudict<2.0.0,>=1.0.11 in c:\\users\\brennen.farrell\\appdata\\local\\miniconda3\\lib\\site-packages (from syllables) (1.0.23)\n",
      "Requirement already satisfied: importlib-metadata<7.0,>=5.1 in c:\\users\\brennen.farrell\\appdata\\local\\miniconda3\\lib\\site-packages (from syllables) (6.11.0)\n",
      "Requirement already satisfied: importlib-resources>=5 in c:\\users\\brennen.farrell\\appdata\\local\\miniconda3\\lib\\site-packages (from cmudict<2.0.0,>=1.0.11->syllables) (6.4.0)\n",
      "Requirement already satisfied: zipp>=0.5 in c:\\users\\brennen.farrell\\appdata\\local\\miniconda3\\lib\\site-packages (from importlib-metadata<7.0,>=5.1->syllables) (3.19.2)\n"
     ]
    },
    {
     "name": "stderr",
     "output_type": "stream",
     "text": [
      "DEPRECATION: xgbse 0.2.3 has a non-standard dependency specifier pandas>=1.0.*. pip 24.1 will enforce this behaviour change. A possible replacement is to upgrade to a newer version of xgbse or contact the author to suggest that they release a version with a conforming dependency specifiers. Discussion can be found at https://github.com/pypa/pip/issues/12063\n"
     ]
    },
    {
     "name": "stdout",
     "output_type": "stream",
     "text": [
      "Requirement already satisfied: cmudict in c:\\users\\brennen.farrell\\appdata\\local\\miniconda3\\lib\\site-packages (1.0.23)\n",
      "Requirement already satisfied: importlib-metadata>=5 in c:\\users\\brennen.farrell\\appdata\\local\\miniconda3\\lib\\site-packages (from cmudict) (6.11.0)\n",
      "Requirement already satisfied: importlib-resources>=5 in c:\\users\\brennen.farrell\\appdata\\local\\miniconda3\\lib\\site-packages (from cmudict) (6.4.0)\n",
      "Requirement already satisfied: zipp>=0.5 in c:\\users\\brennen.farrell\\appdata\\local\\miniconda3\\lib\\site-packages (from importlib-metadata>=5->cmudict) (3.19.2)\n"
     ]
    },
    {
     "name": "stderr",
     "output_type": "stream",
     "text": [
      "DEPRECATION: xgbse 0.2.3 has a non-standard dependency specifier pandas>=1.0.*. pip 24.1 will enforce this behaviour change. A possible replacement is to upgrade to a newer version of xgbse or contact the author to suggest that they release a version with a conforming dependency specifiers. Discussion can be found at https://github.com/pypa/pip/issues/12063\n"
     ]
    },
    {
     "name": "stdout",
     "output_type": "stream",
     "text": [
      "Requirement already satisfied: syllapy in c:\\users\\brennen.farrell\\appdata\\local\\miniconda3\\lib\\site-packages (0.7.2)\n"
     ]
    },
    {
     "name": "stderr",
     "output_type": "stream",
     "text": [
      "DEPRECATION: xgbse 0.2.3 has a non-standard dependency specifier pandas>=1.0.*. pip 24.1 will enforce this behaviour change. A possible replacement is to upgrade to a newer version of xgbse or contact the author to suggest that they release a version with a conforming dependency specifiers. Discussion can be found at https://github.com/pypa/pip/issues/12063\n"
     ]
    },
    {
     "name": "stdout",
     "output_type": "stream",
     "text": [
      "Requirement already satisfied: scipy in c:\\users\\brennen.farrell\\appdata\\local\\miniconda3\\lib\\site-packages (1.13.0)\n",
      "Requirement already satisfied: numpy<2.3,>=1.22.4 in c:\\users\\brennen.farrell\\appdata\\local\\miniconda3\\lib\\site-packages (from scipy) (1.26.4)\n"
     ]
    },
    {
     "name": "stderr",
     "output_type": "stream",
     "text": [
      "DEPRECATION: xgbse 0.2.3 has a non-standard dependency specifier pandas>=1.0.*. pip 24.1 will enforce this behaviour change. A possible replacement is to upgrade to a newer version of xgbse or contact the author to suggest that they release a version with a conforming dependency specifiers. Discussion can be found at https://github.com/pypa/pip/issues/12063\n"
     ]
    }
   ],
   "source": [
    "!pip install nltk\n",
    "!pip install pathlib\n",
    "!pip install SpeechRecognition\n",
    "!pip install pydub\n",
    "!pip install pocketsphinx pyaudio\n",
    "!pip install pyphen\n",
    "!pip install syllables\n",
    "!pip install cmudict\n",
    "!pip install syllapy\n",
    "!pip install scipy\n"
   ]
  },
  {
   "cell_type": "code",
   "execution_count": 2,
   "id": "d978f0a4-4818-4f31-99a8-f520b08896dc",
   "metadata": {},
   "outputs": [
    {
     "name": "stderr",
     "output_type": "stream",
     "text": [
      "C:\\Users\\brennen.farrell\\AppData\\Local\\miniconda3\\Lib\\site-packages\\pydub\\utils.py:170: RuntimeWarning: Couldn't find ffmpeg or avconv - defaulting to ffmpeg, but may not work\n",
      "  warn(\"Couldn't find ffmpeg or avconv - defaulting to ffmpeg, but may not work\", RuntimeWarning)\n",
      "[nltk_data] Downloading package cmudict to\n",
      "[nltk_data]     C:\\Users\\brennen.farrell\\AppData\\Roaming\\nltk_data...\n",
      "[nltk_data]   Package cmudict is already up-to-date!\n",
      "[nltk_data] Downloading package punkt to\n",
      "[nltk_data]     C:\\Users\\brennen.farrell\\AppData\\Roaming\\nltk_data...\n",
      "[nltk_data]   Package punkt is already up-to-date!\n"
     ]
    }
   ],
   "source": [
    "from pathlib import Path\n",
    "import nltk\n",
    "from nltk.stem import PorterStemmer\n",
    "import speech_recognition as sr\n",
    "import pydub\n",
    "from pydub import AudioSegment, silence\n",
    "import io\n",
    "import pyphen\n",
    "from nltk.corpus import cmudict\n",
    "import syllables\n",
    "nltk.download('cmudict')\n",
    "nltk.download('punkt')\n",
    "import cmudict\n",
    "import syllapy\n",
    "from scipy.stats import ttest_rel\n",
    "import numpy\n",
    "import math\n"
   ]
  },
  {
   "cell_type": "code",
   "execution_count": 3,
   "id": "2b75f3a3-6b93-4d86-a869-b01c6e3281fb",
   "metadata": {},
   "outputs": [
    {
     "name": "stdout",
     "output_type": "stream",
     "text": [
      "['Hey', 'guys', ',', 'it', \"'s\", 'Kayla', 'back', 'with', 'another', 'video', '.', 'Okay', ',', 'so', 'first', 'things', 'first', 'is', 'I', 'have', \"n't\", 'been', 'getting', 'like', 'a', 'lot', 'of', 'views', 'or', 'whatever', 'on', 'my', 'videos', ',', 'so', 'if', 'you', 'guys', 'could', 'share', 'like', 'with', 'your', 'friends', 'and', 'stuff', ',', 'I', 'would', 'really', ',', 'really', 'appreciate', 'it', '.', 'Okay', ',', 'so', 'the', 'topic', 'of', 'today', \"'s\", 'video', 'is', 'being', 'yourself', 'and', 'it', \"'s\", 'like', ',', 'you', 'know', ',', 'well', ',', 'are', \"n't\", 'I', 'always', 'being', 'myself', 'and', 'like', ',', 'yeah', ',', 'for', 'sure', ',', 'but', 'sorry', ',', 'I', \"'m\", 'reading', 'these', 'off', 'paper', ',', 'okay', ',', 'but', 'it', \"'s\", 'like', 'being', 'yourself', 'is', 'like', 'not', 'changing', 'yourself', 'to', 'impress', 'someone', 'else', ',', 'you', 'know', ',', 'cause', 'like', 'you', 'could', 'be', 'the', 'most', 'popular', 'kid', 'at', 'school', 'or', 'like', ',', 'you', 'know', ',', 'like', 'have', 'like', 'the', 'hottest', 'boyfriend', 'or', 'whatever', ',', 'but', 'like', ',', 'what', \"'s\", 'the', 'point', 'if', 'you', \"'re\", 'not', 'being', 'yourself', '?', 'And', 'it', \"'s\", 'like', 'being', 'yourself', 'can', 'be', 'hard', 'and', 'like', 'the', 'hard', 'part', 'about', 'being', 'yourself', 'is', 'that', 'it', \"'s\", 'not', 'always', 'easy', 'because', 'you', 'know', ',', 'like', 'people', 'can', 'like', 'make', 'fun', 'of', 'you', 'or', 'something', 'dumb', 'cause', 'like', 'people', 'suck', 'and', 'evil', 'people', 'exist', ',', 'but', 'you', 'just', 'kind', 'of', 'ignore', 'them', 'and', 'like', 'not', 'care', 'what', 'they', \"'re\", 'saying', '.', 'And', 'like', 'for', 'instance', ',', 'like', ',', 'you', 'know', ',', 'a', 'lot', 'of', 'people', 'like', 'call', 'me', 'quiet', 'or', 'shy', 'or', 'whatever', ',', 'but', 'I', \"'m\", 'not', 'quiet', '.', 'Like', 'I', ',', 'you', 'know', ',', 'I', 'do', \"n't\", 'talk', 'a', 'lot', 'at', 'school', ',', 'but', 'I', 'just', ',', 'it', \"'s\", 'not', 'like', 'I', \"'m\", 'scared', 'to', 'not', 'talk', '.', 'I', 'just', 'do', \"n't\", 'want', 'to', ',', 'but', 'if', 'like', 'people', 'actually', ',', 'you', 'know', ',', 'like', 'be', 'my', 'friend', 'or', 'like', ',', 'you', 'know', ',', 'talk', 'to', 'me', 'and', 'stuff', ',', 'they', \"'d\", 'find', 'out', 'that', 'I', \"'m\", 'like', 'really', 'funny', 'and', 'cool', 'and', 'talkative', '.', 'And', 'yeah', ',', 'I', \"'m\", 'just', ',', 'I', \"'m\", 'not', 'like', 'quiet', '.', 'I', 'just', 'choose', 'not', 'to', 'talk', 'a', 'lot', 'at', 'school', ',', 'like', 'other', 'people', ',', 'you', 'know', '?', 'Okay', ',', 'so', 'yeah', ',', 'I', 'hope', 'to', 'basically', ',', 'you', 'know', ',', 'like', 'be', 'yourself', 'and', 'do', \"n't\", 'care', 'about', 'like', 'whatever', ',', 'what', 'other', 'people', 'think', 'about', 'you', 'and', 'just', 'like', ',', 'you', 'know', ',', 'ignore', 'them', 'if', 'they', \"'re\", 'being', 'mean', 'to', 'you', 'about', 'it', 'and', 'everything', 'will', 'work', 'out', 'if', 'you', \"'re\", 'just', 'being', 'yourself', '.', 'Okay', ',', 'thank', 'you', 'guys', 'for', 'watching', 'this', 'video', '.', 'I', 'hope', 'some', 'of', 'you', 'guys', 'found', 'it', 'helpful', 'and', 'make', 'sure', 'to', 'subscribe', 'to', 'my', 'channel', '.', 'And', 'yeah', ',', 'thank', 'you', 'for', 'watching', '.', 'Gucci', '.', 'Thank', 'you', '.']\n",
      "['hey', 'guy', ',', 'it', \"'s\", 'kayla', 'back', 'with', 'anoth', 'video', '.', 'okay', ',', 'so', 'first', 'thing', 'first', 'is', 'i', 'have', \"n't\", 'been', 'get', 'like', 'a', 'lot', 'of', 'view', 'or', 'whatev', 'on', 'my', 'video', ',', 'so', 'if', 'you', 'guy', 'could', 'share', 'like', 'with', 'your', 'friend', 'and', 'stuff', ',', 'i', 'would', 'realli', ',', 'realli', 'appreci', 'it', '.', 'okay', ',', 'so', 'the', 'topic', 'of', 'today', \"'s\", 'video', 'is', 'be', 'yourself', 'and', 'it', \"'s\", 'like', ',', 'you', 'know', ',', 'well', ',', 'are', \"n't\", 'i', 'alway', 'be', 'myself', 'and', 'like', ',', 'yeah', ',', 'for', 'sure', ',', 'but', 'sorri', ',', 'i', \"'m\", 'read', 'these', 'off', 'paper', ',', 'okay', ',', 'but', 'it', \"'s\", 'like', 'be', 'yourself', 'is', 'like', 'not', 'chang', 'yourself', 'to', 'impress', 'someon', 'els', ',', 'you', 'know', ',', 'caus', 'like', 'you', 'could', 'be', 'the', 'most', 'popular', 'kid', 'at', 'school', 'or', 'like', ',', 'you', 'know', ',', 'like', 'have', 'like', 'the', 'hottest', 'boyfriend', 'or', 'whatev', ',', 'but', 'like', ',', 'what', \"'s\", 'the', 'point', 'if', 'you', \"'re\", 'not', 'be', 'yourself', '?', 'and', 'it', \"'s\", 'like', 'be', 'yourself', 'can', 'be', 'hard', 'and', 'like', 'the', 'hard', 'part', 'about', 'be', 'yourself', 'is', 'that', 'it', \"'s\", 'not', 'alway', 'easi', 'becaus', 'you', 'know', ',', 'like', 'peopl', 'can', 'like', 'make', 'fun', 'of', 'you', 'or', 'someth', 'dumb', 'caus', 'like', 'peopl', 'suck', 'and', 'evil', 'peopl', 'exist', ',', 'but', 'you', 'just', 'kind', 'of', 'ignor', 'them', 'and', 'like', 'not', 'care', 'what', 'they', \"'re\", 'say', '.', 'and', 'like', 'for', 'instanc', ',', 'like', ',', 'you', 'know', ',', 'a', 'lot', 'of', 'peopl', 'like', 'call', 'me', 'quiet', 'or', 'shi', 'or', 'whatev', ',', 'but', 'i', \"'m\", 'not', 'quiet', '.', 'like', 'i', ',', 'you', 'know', ',', 'i', 'do', \"n't\", 'talk', 'a', 'lot', 'at', 'school', ',', 'but', 'i', 'just', ',', 'it', \"'s\", 'not', 'like', 'i', \"'m\", 'scare', 'to', 'not', 'talk', '.', 'i', 'just', 'do', \"n't\", 'want', 'to', ',', 'but', 'if', 'like', 'peopl', 'actual', ',', 'you', 'know', ',', 'like', 'be', 'my', 'friend', 'or', 'like', ',', 'you', 'know', ',', 'talk', 'to', 'me', 'and', 'stuff', ',', 'they', \"'d\", 'find', 'out', 'that', 'i', \"'m\", 'like', 'realli', 'funni', 'and', 'cool', 'and', 'talk', '.', 'and', 'yeah', ',', 'i', \"'m\", 'just', ',', 'i', \"'m\", 'not', 'like', 'quiet', '.', 'i', 'just', 'choos', 'not', 'to', 'talk', 'a', 'lot', 'at', 'school', ',', 'like', 'other', 'peopl', ',', 'you', 'know', '?', 'okay', ',', 'so', 'yeah', ',', 'i', 'hope', 'to', 'basic', ',', 'you', 'know', ',', 'like', 'be', 'yourself', 'and', 'do', \"n't\", 'care', 'about', 'like', 'whatev', ',', 'what', 'other', 'peopl', 'think', 'about', 'you', 'and', 'just', 'like', ',', 'you', 'know', ',', 'ignor', 'them', 'if', 'they', \"'re\", 'be', 'mean', 'to', 'you', 'about', 'it', 'and', 'everyth', 'will', 'work', 'out', 'if', 'you', \"'re\", 'just', 'be', 'yourself', '.', 'okay', ',', 'thank', 'you', 'guy', 'for', 'watch', 'thi', 'video', '.', 'i', 'hope', 'some', 'of', 'you', 'guy', 'found', 'it', 'help', 'and', 'make', 'sure', 'to', 'subscrib', 'to', 'my', 'channel', '.', 'and', 'yeah', ',', 'thank', 'you', 'for', 'watch', '.', 'gucci', '.', 'thank', 'you', '.']\n"
     ]
    }
   ],
   "source": [
    "file_path = Path('8th_grade.txt')  \n",
    "text = file_path.read_text(encoding='utf-8')\n",
    "\n",
    "tokens = nltk.word_tokenize(text)\n",
    "print(tokens)\n",
    "\n",
    "stemmer = PorterStemmer()\n",
    "print([stemmer.stem(word) for word in tokens])\n",
    "#preposition + like"
   ]
  },
  {
   "cell_type": "code",
   "execution_count": 4,
   "id": "0811d7a0-a466-4455-a543-3c4860a5d5c3",
   "metadata": {},
   "outputs": [
    {
     "data": {
      "text/plain": [
       "\"he yes i steal 'em back i'm a video okay i'm selling freezing his first is honored i am in gaelic alive user never on monday as if he gets his share with your friends assaf i would really appreciate it okay sell don't think it is in the alley is being yourself an insight yelled well our ellie seeing myself and enlighten yeah for sure moved by a sorry agnes and i'm reading the paper the end but isn't being yourself as a kid not changing yourself to impress someone else he held his leg on you like he got you the limos population is school or light yellow light on the pavelic the highest way surrender never on the light what's the point if you're not being yourself an inside the result can be hard like the hard part about being yourself is that is not all easy easy because you know like people can make others would make fun of you are sending donkeys late people soft and evil people exist on but he's got an identity light not curator saying on that a man of my friends in sight yell at people like all make later scheirer ever on but not by a lake i mean i talk like school play it on i just it's not i am scared enough takeda so worn out but if white people actually l. lake the knife rather late yeah i'm talking in south they find out an mit belief i mean cool and stockman's hands yeah i'm just i'm not like that and this is not taco weisel like other people yell and ok c. yeah i i hope he added basically now lake be yourself and don't care belly could ever be out whether people think about you and just say to you know ignore them and they're being mean to you about a hand everything we do if you just being yourself i think that i think he is watching us feel i hope sonny s. senate hopeful on a nation citizens had failed then at man yeah thank you for watching could she\""
      ]
     },
     "execution_count": 4,
     "metadata": {},
     "output_type": "execute_result"
    }
   ],
   "source": [
    "r = sr.Recognizer()\n",
    "data = sr.AudioFile('8th_grade.wav')\n",
    "\n",
    "with data as source:\n",
    "    audio = r.record(source)\n",
    "    #audio = r.listen(source, 10, 3)\n",
    "r.recognize_sphinx(audio_data=audio, language='en-US')\n",
    "#r.listen(source, 10, 3)\n"
   ]
  },
  {
   "cell_type": "code",
   "execution_count": 5,
   "id": "b123ebf4-f064-49b9-bae6-9d1e7ffe111b",
   "metadata": {},
   "outputs": [
    {
     "name": "stdout",
     "output_type": "stream",
     "text": [
      "167857\n",
      "[[17590, 18970], [33630, 34890], [46100, 47310], [59470, 60860], [66610, 67700], [80770, 81980], [84010, 85520], [96780, 97930], [135570, 136730], [148870, 167857]]\n"
     ]
    }
   ],
   "source": [
    "sound = AudioSegment.from_wav(\"8th_grade.wav\")\n",
    "print(len(sound))\n",
    "min_silence_len = 1000\n",
    "silence_thresh = -50\n",
    "seek_step = 10\n",
    "print(silence.detect_silence(sound, min_silence_len=min_silence_len, silence_thresh=silence_thresh, seek_step=seek_step))\n",
    "\n",
    "#when does a silence become awkward"
   ]
  },
  {
   "cell_type": "code",
   "execution_count": 6,
   "id": "22cc88b4-29e0-4dbd-aedd-02a1209beb9a",
   "metadata": {},
   "outputs": [
    {
     "data": {
      "text/plain": [
       "\"hey guys it's Kayla back with another video okay so first things first is\""
      ]
     },
     "execution_count": 6,
     "metadata": {},
     "output_type": "execute_result"
    }
   ],
   "source": [
    "\n",
    "buffer = io.BytesIO()\n",
    "\n",
    "sound[:10000].export(buffer, format=\"wav\")\n",
    "buffer.seek(0)\n",
    "\n",
    "\n",
    "data = sr.AudioFile(buffer)\n",
    "\n",
    "with data as source:\n",
    "    audio = r.record(source)\n",
    "    #audio = r.listen(source, 10, 3)\n",
    "r.recognize_google(audio_data=audio, language='en-US')\n"
   ]
  },
  {
   "cell_type": "code",
   "execution_count": 7,
   "id": "a9168583-f8be-4bf7-ac69-6a0adfb47937",
   "metadata": {},
   "outputs": [
    {
     "name": "stdout",
     "output_type": "stream",
     "text": [
      "5 seconds\n",
      "\"hey guys it's Kayla back\"\n",
      "\n",
      "10 seconds\n",
      "\"another video okay so first things first is\"\n",
      "\n",
      "15 seconds\n",
      "\"I haven't been getting like a lot of views or whatever on my videos so if you guys could share\"\n",
      "\n",
      "20 seconds\n",
      "\"okay\"\n",
      "\n",
      "25 seconds\n",
      "\"the topic of today's video is being yourself and it's like\"\n",
      "\n",
      "30 seconds\n",
      "\"you know well aren't I always being myself and like yeah\"\n",
      "\n",
      "35 seconds\n",
      "\"sure but\"\n",
      "\n",
      "40 seconds\n",
      "\"okay but it's like\"\n",
      "\n",
      "45 seconds\n",
      "\"being yourself is like not changing yourself to impress someone else you know\"\n",
      "\n",
      "50 seconds\n",
      "\"like like you could be the most popular\"\n",
      "\n",
      "55 seconds\n",
      "\"cool or like you know like have like the hottest boyfriend or whatever\"\n",
      "\n",
      "60 seconds\n",
      "\"but like what's the point if you're not being yourself and it's like\"\n",
      "\n",
      "65 seconds\n",
      "\"being yourself can be hard and like the hard part about being yourself is that it's not\"\n",
      "\n",
      "70 seconds\n",
      "\"easy because you know like people can like\"\n",
      "\n",
      "75 seconds\n",
      "\"you can make fun of you or something dumb cuz like people suck and evil people\"\n",
      "\n",
      "80 seconds\n",
      "\"but you just got to ignore them and like not care what they're saying\"\n",
      "\n",
      "85 seconds\n",
      "\"and\"\n",
      "\n",
      "90 seconds\n",
      "\"like for instance like you know a lot of people like call me quiet\"\n",
      "\n",
      "95 seconds\n",
      "\"or whatever but I'm not quiet like I you know I don't talk\"\n",
      "\n",
      "100 seconds\n",
      "\"what school but I just it's not like I'm scared to not\"\n",
      "\n",
      "105 seconds\n",
      "\"you just don't want to but if like people actually you know like be my friend\"\n",
      "\n",
      "110 seconds\n",
      "\"really funny and cool and talkative and\"\n",
      "\n",
      "115 seconds\n",
      "\"and yeah I'm just I'm not like quiet I just choose not to talk a lot at school\"\n",
      "\n",
      "120 seconds\n",
      "\"play other people you know okay so yeah\"\n",
      "\n",
      "125 seconds\n",
      "\"I hope to basically you know like be yourself and\"\n",
      "\n",
      "130 seconds\n",
      "\"don't care about like whatever what other people think about you and just like\"\n",
      "\n",
      "135 seconds\n",
      "\"no ignore them if they're being mean to you about it and everything will work out if you're\"\n",
      "\n",
      "140 seconds\n",
      "\"sing yourself okay thank you guys for watching this video I hope\"\n",
      "\n",
      "145 seconds\n",
      "\"can you guys found it helpful and make sure to subscribe to my channel\"\n",
      "\n",
      "150 seconds\n",
      "\"and yeah thank you for watching Gucci\"\n",
      "\n",
      "155 seconds\n",
      "\n",
      "160 seconds\n",
      "\n",
      "165 seconds\n",
      "\n"
     ]
    }
   ],
   "source": [
    "totalSyllables = []\n",
    "dic = pyphen.Pyphen(lang='en')\n",
    "\n",
    "for i in range(5000, len(sound) - 1, 5000):\n",
    "    print(str(i // 1000) + \" seconds\")\n",
    "    buffer = io.BytesIO()\n",
    "    sound[i - 5000:i].export(buffer, format=\"wav\")\n",
    "    buffer.seek(0)\n",
    "    \n",
    "    \n",
    "    data = sr.AudioFile(buffer)\n",
    "    \n",
    "    with data as source:\n",
    "        audio = r.record(source)\n",
    "        #audio = r.listen(source, 10, 3)\n",
    "    try:\n",
    "        string = r.recognize_google(audio_data=audio, language='en-US')\n",
    "        syllableCount = syllapy.count(string)\n",
    "        totalSyllables.append(syllableCount)\n",
    "        print('\"' + string + '\"')\n",
    "        print(\"Number of Syllables: \" + syllableCount)\n",
    "    except:\n",
    "        print()"
   ]
  },
  {
   "cell_type": "code",
   "execution_count": 8,
   "id": "fbdb9152-0d49-4fc9-82ae-869a66591f15",
   "metadata": {},
   "outputs": [
    {
     "name": "stdout",
     "output_type": "stream",
     "text": [
      "Standard Deviation: 6.699999999999999\n",
      "Number of pace changes: 17/30\n"
     ]
    }
   ],
   "source": [
    "#average syllbale rate == between 3.3- 5.9\n",
    "stdDev = numpy.std(totalSyllables)\n",
    "changes = 0\n",
    "for i in range(1, len(totalSyllables), 1):\n",
    "    if abs(totalSyllables[i - 1] - totalSyllables[i]) > stdDev:\n",
    "        changes += 1\n",
    "\n",
    "print(\"Standard Deviation: \" + str(stdDev))\n",
    "print(\"Number of pace changes: \" + str(changes) + \"/\" + str(len(totalSyllables)))\n",
    "#parselmouth\n",
    "#deepface"
   ]
  }
 ],
 "metadata": {
  "kernelspec": {
   "display_name": "Python 3 (ipykernel)",
   "language": "python",
   "name": "python3"
  },
  "language_info": {
   "codemirror_mode": {
    "name": "ipython",
    "version": 3
   },
   "file_extension": ".py",
   "mimetype": "text/x-python",
   "name": "python",
   "nbconvert_exporter": "python",
   "pygments_lexer": "ipython3",
   "version": "3.12.3"
  }
 },
 "nbformat": 4,
 "nbformat_minor": 5
}
